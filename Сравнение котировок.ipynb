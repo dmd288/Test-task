{
 "cells": [
  {
   "cell_type": "code",
   "execution_count": 1,
   "id": "82f94e20",
   "metadata": {
    "collapsed": true
   },
   "outputs": [
    {
     "name": "stdout",
     "output_type": "stream",
     "text": [
      "Collecting yfinance\n",
      "  Downloading yfinance-0.1.63.tar.gz (26 kB)\n",
      "Requirement already satisfied: pandas>=0.24 in c:\\users\\alldmd\\anaconda3\\lib\\site-packages (from yfinance) (1.2.4)\n",
      "Requirement already satisfied: numpy>=1.15 in c:\\users\\alldmd\\anaconda3\\lib\\site-packages (from yfinance) (1.20.1)\n",
      "Requirement already satisfied: requests>=2.20 in c:\\users\\alldmd\\anaconda3\\lib\\site-packages (from yfinance) (2.25.1)\n",
      "Collecting multitasking>=0.0.7\n",
      "  Downloading multitasking-0.0.9.tar.gz (8.1 kB)\n",
      "Requirement already satisfied: lxml>=4.5.1 in c:\\users\\alldmd\\anaconda3\\lib\\site-packages (from yfinance) (4.6.3)\n",
      "Requirement already satisfied: python-dateutil>=2.7.3 in c:\\users\\alldmd\\anaconda3\\lib\\site-packages (from pandas>=0.24->yfinance) (2.8.1)\n",
      "Requirement already satisfied: pytz>=2017.3 in c:\\users\\alldmd\\anaconda3\\lib\\site-packages (from pandas>=0.24->yfinance) (2021.1)\n",
      "Requirement already satisfied: six>=1.5 in c:\\users\\alldmd\\anaconda3\\lib\\site-packages (from python-dateutil>=2.7.3->pandas>=0.24->yfinance) (1.15.0)\n",
      "Requirement already satisfied: certifi>=2017.4.17 in c:\\users\\alldmd\\anaconda3\\lib\\site-packages (from requests>=2.20->yfinance) (2020.12.5)\n",
      "Requirement already satisfied: chardet<5,>=3.0.2 in c:\\users\\alldmd\\anaconda3\\lib\\site-packages (from requests>=2.20->yfinance) (4.0.0)\n",
      "Requirement already satisfied: urllib3<1.27,>=1.21.1 in c:\\users\\alldmd\\anaconda3\\lib\\site-packages (from requests>=2.20->yfinance) (1.26.4)\n",
      "Requirement already satisfied: idna<3,>=2.5 in c:\\users\\alldmd\\anaconda3\\lib\\site-packages (from requests>=2.20->yfinance) (2.10)\n",
      "Building wheels for collected packages: yfinance, multitasking\n",
      "  Building wheel for yfinance (setup.py): started\n",
      "  Building wheel for yfinance (setup.py): finished with status 'done'\n",
      "  Created wheel for yfinance: filename=yfinance-0.1.63-py2.py3-none-any.whl size=23909 sha256=755332cae2e10ca835614ce7536b2372abd7d98b8d19eb43d12dfe4aee5046f0\n",
      "  Stored in directory: c:\\users\\alldmd\\appdata\\local\\pip\\cache\\wheels\\ec\\cc\\c1\\32da8ee853d742d5d7cbd11ee04421222eb354672020b57297\n",
      "  Building wheel for multitasking (setup.py): started\n",
      "  Building wheel for multitasking (setup.py): finished with status 'done'\n",
      "  Created wheel for multitasking: filename=multitasking-0.0.9-py3-none-any.whl size=8368 sha256=f0cdba2241015ae8eb19f677347544a69145f65d39357113ad9a2d1bb91b0548\n",
      "  Stored in directory: c:\\users\\alldmd\\appdata\\local\\pip\\cache\\wheels\\57\\6d\\a3\\a39b839cc75274d2acfb1c58bfead2f726c6577fe8c4723f13\n",
      "Successfully built yfinance multitasking\n",
      "Installing collected packages: multitasking, yfinance\n",
      "Successfully installed multitasking-0.0.9 yfinance-0.1.63\n",
      "Note: you may need to restart the kernel to use updated packages.\n"
     ]
    }
   ],
   "source": [
    "pip install yfinance"
   ]
  },
  {
   "cell_type": "code",
   "execution_count": 12,
   "id": "6ccf2750",
   "metadata": {
    "collapsed": true
   },
   "outputs": [
    {
     "name": "stdout",
     "output_type": "stream",
     "text": [
      "Collecting https://github.com/matplotlib/mpl_finance/archive/master.zip\n",
      "  Downloading https://github.com/matplotlib/mpl_finance/archive/master.zip\n",
      "Requirement already satisfied: matplotlib in c:\\users\\alldmd\\anaconda3\\lib\\site-packages (from mpl-finance==0.10.1) (3.3.4)\n",
      "Requirement already satisfied: pillow>=6.2.0 in c:\\users\\alldmd\\anaconda3\\lib\\site-packages (from matplotlib->mpl-finance==0.10.1) (8.2.0)\n",
      "Requirement already satisfied: numpy>=1.15 in c:\\users\\alldmd\\anaconda3\\lib\\site-packages (from matplotlib->mpl-finance==0.10.1) (1.20.1)\n",
      "Requirement already satisfied: cycler>=0.10 in c:\\users\\alldmd\\anaconda3\\lib\\site-packages (from matplotlib->mpl-finance==0.10.1) (0.10.0)\n",
      "Requirement already satisfied: kiwisolver>=1.0.1 in c:\\users\\alldmd\\anaconda3\\lib\\site-packages (from matplotlib->mpl-finance==0.10.1) (1.3.1)\n",
      "Requirement already satisfied: pyparsing!=2.0.4,!=2.1.2,!=2.1.6,>=2.0.3 in c:\\users\\alldmd\\anaconda3\\lib\\site-packages (from matplotlib->mpl-finance==0.10.1) (2.4.7)\n",
      "Requirement already satisfied: python-dateutil>=2.1 in c:\\users\\alldmd\\anaconda3\\lib\\site-packages (from matplotlib->mpl-finance==0.10.1) (2.8.1)\n",
      "Requirement already satisfied: six in c:\\users\\alldmd\\anaconda3\\lib\\site-packages (from cycler>=0.10->matplotlib->mpl-finance==0.10.1) (1.15.0)\n",
      "Building wheels for collected packages: mpl-finance\n",
      "  Building wheel for mpl-finance (setup.py): started\n",
      "  Building wheel for mpl-finance (setup.py): finished with status 'done'\n",
      "  Created wheel for mpl-finance: filename=mpl_finance-0.10.1-py3-none-any.whl size=8423 sha256=d089e354a13a4385957945ac1927067b07cf30a6b835bdbb5761680ac27875e5\n",
      "  Stored in directory: C:\\Users\\Alldmd\\AppData\\Local\\Temp\\pip-ephem-wheel-cache-6gzo2o37\\wheels\\e5\\79\\d7\\03ee900b85115c0e28de92b75e95d4ac278274277a16d04e68\n",
      "Successfully built mpl-finance\n",
      "Installing collected packages: mpl-finance\n",
      "Successfully installed mpl-finance-0.10.1\n",
      "Note: you may need to restart the kernel to use updated packages.\n"
     ]
    }
   ],
   "source": [
    "pip install https://github.com/matplotlib/mpl_finance/archive/master.zip"
   ]
  },
  {
   "cell_type": "code",
   "execution_count": 3,
   "id": "2f3796e8",
   "metadata": {},
   "outputs": [],
   "source": [
    "import pandas as pd\n",
    "import numpy as np\n",
    "import yfinance as yf\n",
    "import datetime\n",
    "from datetime import date\n",
    "from matplotlib.dates import date2num\n",
    "from matplotlib import pyplot as plt\n",
    "from mpl_finance import candlestick_ohlc"
   ]
  },
  {
   "cell_type": "code",
   "execution_count": 19,
   "id": "00afaf1e",
   "metadata": {},
   "outputs": [
    {
     "name": "stdout",
     "output_type": "stream",
     "text": [
      "[*********************100%***********************]  1 of 1 completed\n",
      "[*********************100%***********************]  1 of 1 completed\n"
     ]
    }
   ],
   "source": [
    "#Выбираем период\n",
    "start = datetime.datetime(2020,3,1)\n",
    "end = datetime.datetime(2020,6,30) \n",
    "#Выбираем компании\n",
    "first_company = 'KO' #Coca-cola\n",
    "second_company = 'PEP' #Pepsi\n",
    "\n",
    "\n",
    "KO = yf.download(first_company,start, end)\n",
    "PEP = yf.download(second_company, start, end)"
   ]
  },
  {
   "cell_type": "code",
   "execution_count": 20,
   "id": "d2c98a4c",
   "metadata": {},
   "outputs": [],
   "source": [
    "# Подготавливаем данные\n",
    "KO.reset_index(inplace=True)\n",
    "KO.drop(['Adj Close', 'Volume'], 1, inplace=True)\n",
    "KO['Date'] = KO['Date'].apply(lambda x: date2num(x))\n",
    "\n",
    "PEP.reset_index(inplace=True)\n",
    "PEP.drop(['Adj Close', 'Volume'], 1, inplace=True)\n",
    "PEP['Date'] = PEP['Date'].apply(lambda x: date2num(x))"
   ]
  },
  {
   "cell_type": "code",
   "execution_count": 21,
   "id": "63a878a3",
   "metadata": {
    "scrolled": false
   },
   "outputs": [
    {
     "data": {
      "image/png": "[encoded data removed]",
      "text/plain": [
       "<Figure size 1152x720 with 1 Axes>"
      ]
     },
     "metadata": {},
     "output_type": "display_data"
    }
   ],
   "source": [
    "#Строим графики\n",
    "\n",
    "fig,ax=plt.subplots(facecolor=\"white\",figsize=(16,10))\n",
    "fig.subplots_adjust(bottom=0.1)\n",
    "ax.xaxis_date()\n",
    "\n",
    "plt.title('Сравнение котировок двух компаний')\n",
    "plt.xlabel('time')\n",
    "plt.ylabel('price')\n",
    "candlestick_ohlc(ax,KO.values,width=0.5,colorup='green',colordown='lightgreen') \n",
    "candlestick_ohlc(ax,PEP.values,width=0.5,colorup='r',colordown='darksalmon') \n",
    "plt.grid(True)"
   ]
  }
 ],
 "metadata": {
  "kernelspec": {
   "display_name": "Python 3",
   "language": "python",
   "name": "python3"
  },
  "language_info": {
   "codemirror_mode": {
    "name": "ipython",
    "version": 3
   },
   "file_extension": ".py",
   "mimetype": "text/x-python",
   "name": "python",
   "nbconvert_exporter": "python",
   "pygments_lexer": "ipython3",
   "version": "3.8.8"
  }
 },
 "nbformat": 4,
 "nbformat_minor": 5
}
